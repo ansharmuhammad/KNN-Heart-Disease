{
  "nbformat": 4,
  "nbformat_minor": 0,
  "metadata": {
    "colab": {
      "name": "CBR heart disease.ipynb",
      "provenance": [],
      "collapsed_sections": []
    },
    "kernelspec": {
      "name": "python3",
      "display_name": "Python 3"
    }
  },
  "cells": [
    {
      "cell_type": "markdown",
      "metadata": {
        "id": "fRjF6kjne_hs",
        "colab_type": "text"
      },
      "source": [
        "# Akses Data "
      ]
    },
    {
      "cell_type": "code",
      "metadata": {
        "id": "WTcbOIYZJy_G",
        "colab_type": "code",
        "outputId": "19d1d92b-4294-435a-bd26-54587d6f9699",
        "colab": {
          "base_uri": "https://localhost:8080/",
          "height": 118
        }
      },
      "source": [
        "from google.colab import drive\n",
        "drive.mount('/content/drive')"
      ],
      "execution_count": 0,
      "outputs": [
        {
          "output_type": "stream",
          "text": [
            "Go to this URL in a browser: https://accounts.google.com/o/oauth2/auth?client_id=947318989803-6bn6qk8qdgf4n4g3pfee6491hc0brc4i.apps.googleusercontent.com&redirect_uri=urn%3aietf%3awg%3aoauth%3a2.0%3aoob&response_type=code&scope=email%20https%3a%2f%2fwww.googleapis.com%2fauth%2fdocs.test%20https%3a%2f%2fwww.googleapis.com%2fauth%2fdrive%20https%3a%2f%2fwww.googleapis.com%2fauth%2fdrive.photos.readonly%20https%3a%2f%2fwww.googleapis.com%2fauth%2fpeopleapi.readonly\n",
            "\n",
            "Enter your authorization code:\n",
            "··········\n",
            "Mounted at /content/drive\n"
          ],
          "name": "stdout"
        }
      ]
    },
    {
      "cell_type": "markdown",
      "metadata": {
        "id": "dHLNJa8gfIui",
        "colab_type": "text"
      },
      "source": [
        "# Import Librari"
      ]
    },
    {
      "cell_type": "code",
      "metadata": {
        "id": "mEfs7OAFKACE",
        "colab_type": "code",
        "colab": {}
      },
      "source": [
        "import numpy as np\n",
        "import matplotlib.pyplot as plt \n",
        "import pandas as pd\n",
        "import seaborn as sns\n",
        "from sklearn.model_selection import train_test_split\n",
        "from sklearn.preprocessing import StandardScaler\n",
        "from sklearn.neighbors import KNeighborsClassifier\n",
        "from sklearn.metrics import confusion_matrix\n",
        "from sklearn import metrics"
      ],
      "execution_count": 0,
      "outputs": []
    },
    {
      "cell_type": "markdown",
      "metadata": {
        "id": "mK5urzLFfP-j",
        "colab_type": "text"
      },
      "source": [
        "# Load Data\n",
        "\n",
        "data yang dipakai merupakan data penyakit jantung dari Cleveland Clinic Foundation\n",
        "[sumber](https://archive.ics.uci.edu/ml/datasets/Heart+Disease)<br/>\n",
        "data dapat di download pada link berikut https://drive.google.com/open?id=1P45YmDyVHllfrht2bvLPQw6KvVeqwHnx\n",
        "\n",
        "keterangan fitur :<br/>\n",
        "age — age in years<br/>\n",
        "sex — (1 = male; 0 = female)<br/>\n",
        "cp — chest pain type<br/>\n",
        "trestbps — resting blood pressure (in mm Hg on admission to the hospital)<br/>\n",
        "chol — serum cholestoral in mg/dl<br/>\n",
        "fbs — (fasting blood sugar > 120 mg/dl) (1 = true; 0 = false)<br/>\n",
        "restecg — resting electrocardiographic results<br/>\n",
        "thalach — maximum heart rate achieved<br/>\n",
        "exang — exercise induced angina (1 = yes; 0 = no)<br/>\n",
        "oldpeak — ST depression induced by exercise relative to rest<br/>\n",
        "slope — the slope of the peak exercise ST segment<br/>\n",
        "ca — number of major vessels (0–3) colored by flourosopy<br/>\n",
        "thal — 3 = normal; 6 = fixed defect; 7 = reversable defect<br/>\n",
        "target — have disease or not (1=yes, 0=no)<br/>"
      ]
    },
    {
      "cell_type": "code",
      "metadata": {
        "id": "qt_DysajKAgc",
        "colab_type": "code",
        "outputId": "5431f3b3-b306-48d3-92b0-86104c2761ef",
        "colab": {
          "base_uri": "https://localhost:8080/",
          "height": 411
        }
      },
      "source": [
        "#path_data diisi dengan alamat directori data anda menyimpannya\n",
        "path_data = '/content/drive/My Drive/processed_cleveland_data.csv'\n",
        "\n",
        "data = pd.read_csv(path_data)\n",
        "\n",
        "data"
      ],
      "execution_count": 0,
      "outputs": [
        {
          "output_type": "execute_result",
          "data": {
            "text/html": [
              "<div>\n",
              "<style scoped>\n",
              "    .dataframe tbody tr th:only-of-type {\n",
              "        vertical-align: middle;\n",
              "    }\n",
              "\n",
              "    .dataframe tbody tr th {\n",
              "        vertical-align: top;\n",
              "    }\n",
              "\n",
              "    .dataframe thead th {\n",
              "        text-align: right;\n",
              "    }\n",
              "</style>\n",
              "<table border=\"1\" class=\"dataframe\">\n",
              "  <thead>\n",
              "    <tr style=\"text-align: right;\">\n",
              "      <th></th>\n",
              "      <th>age</th>\n",
              "      <th>sex</th>\n",
              "      <th>cp</th>\n",
              "      <th>trestbps</th>\n",
              "      <th>chol</th>\n",
              "      <th>fbs</th>\n",
              "      <th>restecg</th>\n",
              "      <th>thalach</th>\n",
              "      <th>exang</th>\n",
              "      <th>oldpeak</th>\n",
              "      <th>slope</th>\n",
              "      <th>ca</th>\n",
              "      <th>thal</th>\n",
              "      <th>target</th>\n",
              "    </tr>\n",
              "  </thead>\n",
              "  <tbody>\n",
              "    <tr>\n",
              "      <th>0</th>\n",
              "      <td>63.0</td>\n",
              "      <td>1.0</td>\n",
              "      <td>1.0</td>\n",
              "      <td>145.0</td>\n",
              "      <td>233.0</td>\n",
              "      <td>1.0</td>\n",
              "      <td>2.0</td>\n",
              "      <td>150.0</td>\n",
              "      <td>0.0</td>\n",
              "      <td>2.3</td>\n",
              "      <td>3.0</td>\n",
              "      <td>0.0</td>\n",
              "      <td>6.0</td>\n",
              "      <td>0</td>\n",
              "    </tr>\n",
              "    <tr>\n",
              "      <th>1</th>\n",
              "      <td>67.0</td>\n",
              "      <td>1.0</td>\n",
              "      <td>4.0</td>\n",
              "      <td>160.0</td>\n",
              "      <td>286.0</td>\n",
              "      <td>0.0</td>\n",
              "      <td>2.0</td>\n",
              "      <td>108.0</td>\n",
              "      <td>1.0</td>\n",
              "      <td>1.5</td>\n",
              "      <td>2.0</td>\n",
              "      <td>3.0</td>\n",
              "      <td>3.0</td>\n",
              "      <td>1</td>\n",
              "    </tr>\n",
              "    <tr>\n",
              "      <th>2</th>\n",
              "      <td>67.0</td>\n",
              "      <td>1.0</td>\n",
              "      <td>4.0</td>\n",
              "      <td>120.0</td>\n",
              "      <td>229.0</td>\n",
              "      <td>0.0</td>\n",
              "      <td>2.0</td>\n",
              "      <td>129.0</td>\n",
              "      <td>1.0</td>\n",
              "      <td>2.6</td>\n",
              "      <td>2.0</td>\n",
              "      <td>2.0</td>\n",
              "      <td>7.0</td>\n",
              "      <td>1</td>\n",
              "    </tr>\n",
              "    <tr>\n",
              "      <th>3</th>\n",
              "      <td>37.0</td>\n",
              "      <td>1.0</td>\n",
              "      <td>3.0</td>\n",
              "      <td>130.0</td>\n",
              "      <td>250.0</td>\n",
              "      <td>0.0</td>\n",
              "      <td>0.0</td>\n",
              "      <td>187.0</td>\n",
              "      <td>0.0</td>\n",
              "      <td>3.5</td>\n",
              "      <td>3.0</td>\n",
              "      <td>0.0</td>\n",
              "      <td>3.0</td>\n",
              "      <td>0</td>\n",
              "    </tr>\n",
              "    <tr>\n",
              "      <th>4</th>\n",
              "      <td>41.0</td>\n",
              "      <td>0.0</td>\n",
              "      <td>2.0</td>\n",
              "      <td>130.0</td>\n",
              "      <td>204.0</td>\n",
              "      <td>0.0</td>\n",
              "      <td>2.0</td>\n",
              "      <td>172.0</td>\n",
              "      <td>0.0</td>\n",
              "      <td>1.4</td>\n",
              "      <td>1.0</td>\n",
              "      <td>0.0</td>\n",
              "      <td>3.0</td>\n",
              "      <td>0</td>\n",
              "    </tr>\n",
              "    <tr>\n",
              "      <th>...</th>\n",
              "      <td>...</td>\n",
              "      <td>...</td>\n",
              "      <td>...</td>\n",
              "      <td>...</td>\n",
              "      <td>...</td>\n",
              "      <td>...</td>\n",
              "      <td>...</td>\n",
              "      <td>...</td>\n",
              "      <td>...</td>\n",
              "      <td>...</td>\n",
              "      <td>...</td>\n",
              "      <td>...</td>\n",
              "      <td>...</td>\n",
              "      <td>...</td>\n",
              "    </tr>\n",
              "    <tr>\n",
              "      <th>292</th>\n",
              "      <td>57.0</td>\n",
              "      <td>0.0</td>\n",
              "      <td>4.0</td>\n",
              "      <td>140.0</td>\n",
              "      <td>241.0</td>\n",
              "      <td>0.0</td>\n",
              "      <td>0.0</td>\n",
              "      <td>123.0</td>\n",
              "      <td>1.0</td>\n",
              "      <td>0.2</td>\n",
              "      <td>2.0</td>\n",
              "      <td>0.0</td>\n",
              "      <td>7.0</td>\n",
              "      <td>1</td>\n",
              "    </tr>\n",
              "    <tr>\n",
              "      <th>293</th>\n",
              "      <td>45.0</td>\n",
              "      <td>1.0</td>\n",
              "      <td>1.0</td>\n",
              "      <td>110.0</td>\n",
              "      <td>264.0</td>\n",
              "      <td>0.0</td>\n",
              "      <td>0.0</td>\n",
              "      <td>132.0</td>\n",
              "      <td>0.0</td>\n",
              "      <td>1.2</td>\n",
              "      <td>2.0</td>\n",
              "      <td>0.0</td>\n",
              "      <td>7.0</td>\n",
              "      <td>1</td>\n",
              "    </tr>\n",
              "    <tr>\n",
              "      <th>294</th>\n",
              "      <td>68.0</td>\n",
              "      <td>1.0</td>\n",
              "      <td>4.0</td>\n",
              "      <td>144.0</td>\n",
              "      <td>193.0</td>\n",
              "      <td>1.0</td>\n",
              "      <td>0.0</td>\n",
              "      <td>141.0</td>\n",
              "      <td>0.0</td>\n",
              "      <td>3.4</td>\n",
              "      <td>2.0</td>\n",
              "      <td>2.0</td>\n",
              "      <td>7.0</td>\n",
              "      <td>1</td>\n",
              "    </tr>\n",
              "    <tr>\n",
              "      <th>295</th>\n",
              "      <td>57.0</td>\n",
              "      <td>1.0</td>\n",
              "      <td>4.0</td>\n",
              "      <td>130.0</td>\n",
              "      <td>131.0</td>\n",
              "      <td>0.0</td>\n",
              "      <td>0.0</td>\n",
              "      <td>115.0</td>\n",
              "      <td>1.0</td>\n",
              "      <td>1.2</td>\n",
              "      <td>2.0</td>\n",
              "      <td>1.0</td>\n",
              "      <td>7.0</td>\n",
              "      <td>1</td>\n",
              "    </tr>\n",
              "    <tr>\n",
              "      <th>296</th>\n",
              "      <td>57.0</td>\n",
              "      <td>0.0</td>\n",
              "      <td>2.0</td>\n",
              "      <td>130.0</td>\n",
              "      <td>236.0</td>\n",
              "      <td>0.0</td>\n",
              "      <td>2.0</td>\n",
              "      <td>174.0</td>\n",
              "      <td>0.0</td>\n",
              "      <td>0.0</td>\n",
              "      <td>2.0</td>\n",
              "      <td>1.0</td>\n",
              "      <td>3.0</td>\n",
              "      <td>1</td>\n",
              "    </tr>\n",
              "  </tbody>\n",
              "</table>\n",
              "<p>297 rows × 14 columns</p>\n",
              "</div>"
            ],
            "text/plain": [
              "      age  sex   cp  trestbps   chol  ...  oldpeak  slope   ca  thal  target\n",
              "0    63.0  1.0  1.0     145.0  233.0  ...      2.3    3.0  0.0   6.0       0\n",
              "1    67.0  1.0  4.0     160.0  286.0  ...      1.5    2.0  3.0   3.0       1\n",
              "2    67.0  1.0  4.0     120.0  229.0  ...      2.6    2.0  2.0   7.0       1\n",
              "3    37.0  1.0  3.0     130.0  250.0  ...      3.5    3.0  0.0   3.0       0\n",
              "4    41.0  0.0  2.0     130.0  204.0  ...      1.4    1.0  0.0   3.0       0\n",
              "..    ...  ...  ...       ...    ...  ...      ...    ...  ...   ...     ...\n",
              "292  57.0  0.0  4.0     140.0  241.0  ...      0.2    2.0  0.0   7.0       1\n",
              "293  45.0  1.0  1.0     110.0  264.0  ...      1.2    2.0  0.0   7.0       1\n",
              "294  68.0  1.0  4.0     144.0  193.0  ...      3.4    2.0  2.0   7.0       1\n",
              "295  57.0  1.0  4.0     130.0  131.0  ...      1.2    2.0  1.0   7.0       1\n",
              "296  57.0  0.0  2.0     130.0  236.0  ...      0.0    2.0  1.0   3.0       1\n",
              "\n",
              "[297 rows x 14 columns]"
            ]
          },
          "metadata": {
            "tags": []
          },
          "execution_count": 6
        }
      ]
    },
    {
      "cell_type": "markdown",
      "metadata": {
        "id": "yXc3c87egi2g",
        "colab_type": "text"
      },
      "source": [
        "# Retrieval\n",
        "proses retrieval menggunakan algoritma K-Nearest Neighbour dengan nilai K = 5 [(K-NN)](https://informatikalogi.com/algoritma-k-nn-k-nearest-neighbor/)<br/>\n",
        "perhitungan distance menggunakan minkowski [(minkowski)](https://en.wikipedia.org/wiki/Minkowski_distance#:~:targetText=The%20Minkowski%20distance%20is%20a,distance%20and%20the%20Manhattan%20distance.)<br/>\n",
        "indexing yang digunakan adalah KD Tree [(kd tree)](https://en.wikipedia.org/wiki/K-d_tree)<br/>\n"
      ]
    },
    {
      "cell_type": "code",
      "metadata": {
        "id": "xckdEW7HYaFx",
        "colab_type": "code",
        "colab": {}
      },
      "source": [
        "#memisahkan data dengan label\n",
        "X = data.iloc[:,:-1].values\n",
        "y = data.iloc[:,13].values\n",
        "\n",
        "#proses retrieval\n",
        "classifier = KNeighborsClassifier(n_neighbors = 5, algorithm='kd_tree', metric = 'minkowski', p = 2)\n",
        "classifier = classifier.fit(X,y)"
      ],
      "execution_count": 0,
      "outputs": []
    },
    {
      "cell_type": "markdown",
      "metadata": {
        "id": "V1kXOywchg-6",
        "colab_type": "text"
      },
      "source": [
        "# Reuse"
      ]
    },
    {
      "cell_type": "code",
      "metadata": {
        "id": "hG3927iCUejg",
        "colab_type": "code",
        "cellView": "form",
        "outputId": "451ef68e-e926-4d9e-9416-d3b8a181f502",
        "colab": {
          "base_uri": "https://localhost:8080/",
          "height": 66
        }
      },
      "source": [
        "#@title Example form fields\n",
        "#@markdown Forms support many types of fields.\n",
        "\n",
        "age = 67  #@param {type: \"number\"}\n",
        "\n",
        "sex = \"male\"  #@param ['male','female']\n",
        "if sex==\"male\":\n",
        "  sex = 1\n",
        "else:\n",
        "  sex = 0\n",
        "\n",
        "cp\t= 4  #@param {type: \"number\"}\n",
        "trestbps\t= 160  #@param {type: \"number\"}\n",
        "chol\t= 286  #@param {type: \"number\"}\n",
        "\n",
        "#@markdown fasting blood sugar > 120 mg/dl ?\n",
        "fbs\t= \"true\"  #@param ['true','false']\n",
        "if fbs==\"false\":\n",
        "  fbs = 0\n",
        "else:\n",
        "  fbs = 1\n",
        "\n",
        "restecg\t= 2  #@param {type: \"number\"}\n",
        "thalach\t= 108  #@param {type: \"number\"}\n",
        "\n",
        "exang\t= \"yes\"  #@param ['yes','no']\n",
        "if exang==\"no\":\n",
        "  exang = 0\n",
        "else:\n",
        "  exang = 1\n",
        "  \n",
        "oldpeak\t= 1.5  #@param {type: \"number\"}\n",
        "slope\t= 2  #@param {type: \"number\"}\n",
        "ca = 3  #@param {type: \"slider\", min: 0, max: 3}\n",
        "\n",
        "#@markdown thal 3 = normal; 6 = fixed defect; 7 = reversable defect\n",
        "thal  = \"6\"  #@param [3,6,7]\n",
        "thal = int(thal)\n",
        "\n",
        "#@markdown ---\n",
        "\n",
        "input_data = [[age, sex, cp, trestbps, chol, fbs, restecg, thalach, exang, oldpeak, slope, ca, thal]]\n",
        "print(input_data)\n",
        "hasil = classifier.predict(input_data)\n",
        "print(hasil)\n",
        "#distances, indices = classifier.kneighbors(X)\n",
        "\n",
        "#print(distances)\n",
        "#print(indices)\n",
        "\n",
        "if hasil[0]==0:\n",
        "  print('tidak berpenyakit jantung')\n",
        "else:\n",
        "  print('berpenyakit jantung')\n"
      ],
      "execution_count": 0,
      "outputs": [
        {
          "output_type": "stream",
          "text": [
            "[[67, 1, 4, 160, 286, 1, 2, 108, 1, 1.5, 2, 3, 6]]\n",
            "[1]\n",
            "berpenyakit jantung\n"
          ],
          "name": "stdout"
        }
      ]
    },
    {
      "cell_type": "code",
      "metadata": {
        "id": "caBfvk6XBYbs",
        "colab_type": "code",
        "colab": {}
      },
      "source": [
        ""
      ],
      "execution_count": 0,
      "outputs": []
    }
  ]
}